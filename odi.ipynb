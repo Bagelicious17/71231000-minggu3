{
 "cells": [
  {
   "cell_type": "code",
   "execution_count": 1,
   "metadata": {},
   "outputs": [
    {
     "name": "stdout",
     "output_type": "stream",
     "text": [
      "jumlah hari: 29\n"
     ]
    }
   ],
   "source": [
    "try:\n",
    "    bulan=int(input(\"masukkan jumlah bulan (1-12): \"))\n",
    "    a=[1,3,5,7,8,10,12]\n",
    "    b=[2]\n",
    "    c=[4,6,9,11]\n",
    "    if bulan in a:\n",
    "        print(\"jumlah hari: 31\")\n",
    "    elif bulan in b:\n",
    "        print(\"jumlah hari: 29\")\n",
    "    elif bulan in c:\n",
    "        print(\"jumlah hari: 30\")\n",
    "    else:\n",
    "        print(\"salah\")\n",
    "except:\n",
    "    print(\"salahh lagi\")"
   ]
  },
  {
   "cell_type": "code",
   "execution_count": 2,
   "metadata": {},
   "outputs": [
    {
     "name": "stdout",
     "output_type": "stream",
     "text": [
      "kedua sisi sama\n"
     ]
    }
   ],
   "source": [
    "try:\n",
    "    a=int(input(\"sisi segitiga pertama: \"))\n",
    "    b=int(input(\"sisi segitiga kedua: \"))\n",
    "    c=int(input(\"sisi segitiga ketiga: \"))\n",
    "    if a == b and a==c and b==c:\n",
    "        print(\"ketiga sisi sama\")\n",
    "    elif a == b != c or a != b == c or a == c != b:\n",
    "        print(\"kedua sisi sama\")\n",
    "    else:\n",
    "        print(\"ga ada yg sama\")\n",
    "except:\n",
    "    print(\"salah\")"
   ]
  },
  {
   "cell_type": "code",
   "execution_count": 3,
   "metadata": {},
   "outputs": [
    {
     "name": "stdout",
     "output_type": "stream",
     "text": [
      "Anda demam\n"
     ]
    }
   ],
   "source": [
    "try:\n",
    "    suhu = int(input(\"Masukkan suhu tubuh: \"))\n",
    "    if suhu >= 38:\n",
    "        print(\"Anda demam\")\n",
    "    else:\n",
    "        print(\"Anda tidak demam\")\n",
    "except:\n",
    "    print(\"input salahh\")"
   ]
  },
  {
   "cell_type": "code",
   "execution_count": 4,
   "metadata": {},
   "outputs": [
    {
     "name": "stdout",
     "output_type": "stream",
     "text": [
      "masukkan angka yang valid jangan huruf\n"
     ]
    }
   ],
   "source": [
    "try:\n",
    "    bilangan = int(input(\"Masukkan suatu bilangan: \"))\n",
    "    if bilangan > 0:\n",
    "        print(\"Positif\")\n",
    "    elif bilangan < 0:\n",
    "        print(\"Negatif\")\n",
    "    elif bilangan == 0:\n",
    "        print(\"Nol\")\n",
    "except:\n",
    "    print(\"masukkan angka yang valid jangan huruf\")\n"
   ]
  },
  {
   "cell_type": "code",
   "execution_count": 5,
   "metadata": {},
   "outputs": [
    {
     "name": "stdout",
     "output_type": "stream",
     "text": [
      "Terbesar:  45\n"
     ]
    }
   ],
   "source": [
    "try:\n",
    "# input a, b dan c\n",
    "    a = int(input(\"Masukkan bilangan pertama: \"))\n",
    "    b = int(input(\"Masukkan bilangan kedua: \"))\n",
    "    c = int(input(\"Masukkan bilangan ketiga: \"))\n",
    " # secara berurutan tulis kriteria untuk a, b, dan c\n",
    "    if a > b and a > c:\n",
    "        print(\"Terbesar: \", a)\n",
    "    elif b > a and b > c:\n",
    "        print(\"Terbesar: \", b)\n",
    "    elif c > a and c > b:\n",
    "        print(\"Terbesar: \", c)\n",
    "except:\n",
    "    print(\"masukkan angka jangan huruf\")\n"
   ]
  },
  {
   "cell_type": "code",
   "execution_count": 6,
   "metadata": {},
   "outputs": [
    {
     "name": "stdout",
     "output_type": "stream",
     "text": [
      "positif\n"
     ]
    }
   ],
   "source": [
    "try:\n",
    "    bilangan = int(input(\"Masukkan suatu bilangan: \"))\n",
    "    a= \"positif\" if bilangan > 0 else \"negatif\" if bilangan < 0 else \"Nol\" if bilangan == 0 else \"salah\"\n",
    "    print(a)\n",
    "except:\n",
    "    print(\"masukkan angka yang valid jangan huruf\")"
   ]
  }
 ],
 "metadata": {
  "kernelspec": {
   "display_name": "Python 3",
   "language": "python",
   "name": "python3"
  },
  "language_info": {
   "codemirror_mode": {
    "name": "ipython",
    "version": 3
   },
   "file_extension": ".py",
   "mimetype": "text/x-python",
   "name": "python",
   "nbconvert_exporter": "python",
   "pygments_lexer": "ipython3",
   "version": "3.12.1"
  }
 },
 "nbformat": 4,
 "nbformat_minor": 2
}
